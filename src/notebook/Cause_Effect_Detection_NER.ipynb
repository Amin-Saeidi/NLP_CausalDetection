{
  "cells": [
    {
      "cell_type": "markdown",
      "source": [
        "**Installing libraries**"
      ],
      "metadata": {
        "id": "lh-rNYmoqBVq"
      }
    },
    {
      "cell_type": "code",
      "execution_count": 1,
      "metadata": {
        "colab": {
          "base_uri": "https://localhost:8080/"
        },
        "id": "-cv7WcATtWOU",
        "outputId": "491d3df2-87c8-409a-e446-0a296db7ce41"
      },
      "outputs": [
        {
          "output_type": "stream",
          "name": "stdout",
          "text": [
            "Looking in indexes: https://pypi.org/simple, https://us-python.pkg.dev/colab-wheels/public/simple/\n",
            "Collecting livelossplot\n",
            "  Downloading livelossplot-0.5.5-py3-none-any.whl (22 kB)\n",
            "Requirement already satisfied: bokeh in /usr/local/lib/python3.9/dist-packages (from livelossplot) (2.4.3)\n",
            "Requirement already satisfied: matplotlib in /usr/local/lib/python3.9/dist-packages (from livelossplot) (3.5.3)\n",
            "Requirement already satisfied: Jinja2>=2.9 in /usr/local/lib/python3.9/dist-packages (from bokeh->livelossplot) (3.1.2)\n",
            "Requirement already satisfied: typing-extensions>=3.10.0 in /usr/local/lib/python3.9/dist-packages (from bokeh->livelossplot) (4.5.0)\n",
            "Requirement already satisfied: numpy>=1.11.3 in /usr/local/lib/python3.9/dist-packages (from bokeh->livelossplot) (1.22.4)\n",
            "Requirement already satisfied: tornado>=5.1 in /usr/local/lib/python3.9/dist-packages (from bokeh->livelossplot) (6.2)\n",
            "Requirement already satisfied: pillow>=7.1.0 in /usr/local/lib/python3.9/dist-packages (from bokeh->livelossplot) (8.4.0)\n",
            "Requirement already satisfied: packaging>=16.8 in /usr/local/lib/python3.9/dist-packages (from bokeh->livelossplot) (23.0)\n",
            "Requirement already satisfied: PyYAML>=3.10 in /usr/local/lib/python3.9/dist-packages (from bokeh->livelossplot) (6.0)\n",
            "Requirement already satisfied: cycler>=0.10 in /usr/local/lib/python3.9/dist-packages (from matplotlib->livelossplot) (0.11.0)\n",
            "Requirement already satisfied: kiwisolver>=1.0.1 in /usr/local/lib/python3.9/dist-packages (from matplotlib->livelossplot) (1.4.4)\n",
            "Requirement already satisfied: pyparsing>=2.2.1 in /usr/local/lib/python3.9/dist-packages (from matplotlib->livelossplot) (3.0.9)\n",
            "Requirement already satisfied: python-dateutil>=2.7 in /usr/local/lib/python3.9/dist-packages (from matplotlib->livelossplot) (2.8.2)\n",
            "Requirement already satisfied: fonttools>=4.22.0 in /usr/local/lib/python3.9/dist-packages (from matplotlib->livelossplot) (4.39.0)\n",
            "Requirement already satisfied: MarkupSafe>=2.0 in /usr/local/lib/python3.9/dist-packages (from Jinja2>=2.9->bokeh->livelossplot) (2.1.2)\n",
            "Requirement already satisfied: six>=1.5 in /usr/local/lib/python3.9/dist-packages (from python-dateutil>=2.7->matplotlib->livelossplot) (1.15.0)\n",
            "Installing collected packages: livelossplot\n",
            "Successfully installed livelossplot-0.5.5\n",
            "Looking in indexes: https://pypi.org/simple, https://us-python.pkg.dev/colab-wheels/public/simple/\n",
            "Collecting hazm\n",
            "  Downloading hazm-0.7.0-py3-none-any.whl (316 kB)\n",
            "\u001b[2K     \u001b[90m━━━━━━━━━━━━━━━━━━━━━━━━━━━━━━━━━━━━━━━\u001b[0m \u001b[32m316.7/316.7 KB\u001b[0m \u001b[31m3.9 MB/s\u001b[0m eta \u001b[36m0:00:00\u001b[0m\n",
            "\u001b[?25hCollecting libwapiti>=0.2.1\n",
            "  Downloading libwapiti-0.2.1.tar.gz (233 kB)\n",
            "\u001b[2K     \u001b[90m━━━━━━━━━━━━━━━━━━━━━━━━━━━━━━━━━━━━━━\u001b[0m \u001b[32m233.6/233.6 KB\u001b[0m \u001b[31m10.2 MB/s\u001b[0m eta \u001b[36m0:00:00\u001b[0m\n",
            "\u001b[?25h  Preparing metadata (setup.py) ... \u001b[?25l\u001b[?25hdone\n",
            "Collecting nltk==3.3\n",
            "  Downloading nltk-3.3.0.zip (1.4 MB)\n",
            "\u001b[2K     \u001b[90m━━━━━━━━━━━━━━━━━━━━━━━━━━━━━━━━━━━━━━━━\u001b[0m \u001b[32m1.4/1.4 MB\u001b[0m \u001b[31m17.6 MB/s\u001b[0m eta \u001b[36m0:00:00\u001b[0m\n",
            "\u001b[?25h  Preparing metadata (setup.py) ... \u001b[?25l\u001b[?25hdone\n",
            "Requirement already satisfied: six in /usr/local/lib/python3.9/dist-packages (from nltk==3.3->hazm) (1.15.0)\n",
            "Building wheels for collected packages: nltk, libwapiti\n",
            "  Building wheel for nltk (setup.py) ... \u001b[?25l\u001b[?25hdone\n",
            "  Created wheel for nltk: filename=nltk-3.3-py3-none-any.whl size=1394489 sha256=79c53c9178bc2335f61637f6ba4955b605da29eb64838133e5c2aecd72353fb0\n",
            "  Stored in directory: /root/.cache/pip/wheels/ac/62/f6/88933dadcd64a1614894614aa68cf57c4b8e5256acb650b1f1\n",
            "  Building wheel for libwapiti (setup.py) ... \u001b[?25l\u001b[?25hdone\n",
            "  Created wheel for libwapiti: filename=libwapiti-0.2.1-cp39-cp39-linux_x86_64.whl size=180364 sha256=4eb27a99dc6f08275ee703eb78ba8f1ae83f80f7b981c33390417ced8848f61a\n",
            "  Stored in directory: /root/.cache/pip/wheels/8e/ff/82/9326b96f96f47472e02c453697b225813e4650c0ed4df2cd49\n",
            "Successfully built nltk libwapiti\n",
            "Installing collected packages: nltk, libwapiti, hazm\n",
            "  Attempting uninstall: nltk\n",
            "    Found existing installation: nltk 3.7\n",
            "    Uninstalling nltk-3.7:\n",
            "      Successfully uninstalled nltk-3.7\n",
            "Successfully installed hazm-0.7.0 libwapiti-0.2.1 nltk-3.3\n",
            "Looking in indexes: https://pypi.org/simple, https://us-python.pkg.dev/colab-wheels/public/simple/\n",
            "Collecting transformers\n",
            "  Downloading transformers-4.26.1-py3-none-any.whl (6.3 MB)\n",
            "\u001b[2K     \u001b[90m━━━━━━━━━━━━━━━━━━━━━━━━━━━━━━━━━━━━━━━━\u001b[0m \u001b[32m6.3/6.3 MB\u001b[0m \u001b[31m64.0 MB/s\u001b[0m eta \u001b[36m0:00:00\u001b[0m\n",
            "\u001b[?25hRequirement already satisfied: requests in /usr/local/lib/python3.9/dist-packages (from transformers) (2.25.1)\n",
            "Requirement already satisfied: filelock in /usr/local/lib/python3.9/dist-packages (from transformers) (3.9.0)\n",
            "Requirement already satisfied: tqdm>=4.27 in /usr/local/lib/python3.9/dist-packages (from transformers) (4.65.0)\n",
            "Requirement already satisfied: regex!=2019.12.17 in /usr/local/lib/python3.9/dist-packages (from transformers) (2022.6.2)\n",
            "Requirement already satisfied: pyyaml>=5.1 in /usr/local/lib/python3.9/dist-packages (from transformers) (6.0)\n",
            "Collecting tokenizers!=0.11.3,<0.14,>=0.11.1\n",
            "  Downloading tokenizers-0.13.2-cp39-cp39-manylinux_2_17_x86_64.manylinux2014_x86_64.whl (7.6 MB)\n",
            "\u001b[2K     \u001b[90m━━━━━━━━━━━━━━━━━━━━━━━━━━━━━━━━━━━━━━━━\u001b[0m \u001b[32m7.6/7.6 MB\u001b[0m \u001b[31m94.3 MB/s\u001b[0m eta \u001b[36m0:00:00\u001b[0m\n",
            "\u001b[?25hCollecting huggingface-hub<1.0,>=0.11.0\n",
            "  Downloading huggingface_hub-0.13.0-py3-none-any.whl (199 kB)\n",
            "\u001b[2K     \u001b[90m━━━━━━━━━━━━━━━━━━━━━━━━━━━━━━━━━━━━━━\u001b[0m \u001b[32m199.1/199.1 KB\u001b[0m \u001b[31m24.1 MB/s\u001b[0m eta \u001b[36m0:00:00\u001b[0m\n",
            "\u001b[?25hRequirement already satisfied: numpy>=1.17 in /usr/local/lib/python3.9/dist-packages (from transformers) (1.22.4)\n",
            "Requirement already satisfied: packaging>=20.0 in /usr/local/lib/python3.9/dist-packages (from transformers) (23.0)\n",
            "Requirement already satisfied: typing-extensions>=3.7.4.3 in /usr/local/lib/python3.9/dist-packages (from huggingface-hub<1.0,>=0.11.0->transformers) (4.5.0)\n",
            "Requirement already satisfied: idna<3,>=2.5 in /usr/local/lib/python3.9/dist-packages (from requests->transformers) (2.10)\n",
            "Requirement already satisfied: chardet<5,>=3.0.2 in /usr/local/lib/python3.9/dist-packages (from requests->transformers) (4.0.0)\n",
            "Requirement already satisfied: urllib3<1.27,>=1.21.1 in /usr/local/lib/python3.9/dist-packages (from requests->transformers) (1.26.14)\n",
            "Requirement already satisfied: certifi>=2017.4.17 in /usr/local/lib/python3.9/dist-packages (from requests->transformers) (2022.12.7)\n",
            "Installing collected packages: tokenizers, huggingface-hub, transformers\n",
            "Successfully installed huggingface-hub-0.13.0 tokenizers-0.13.2 transformers-4.26.1\n"
          ]
        }
      ],
      "source": [
        "!pip install livelossplot\n",
        "!pip install hazm\n",
        "!pip install transformers"
      ]
    },
    {
      "cell_type": "code",
      "execution_count": 2,
      "metadata": {
        "colab": {
          "base_uri": "https://localhost:8080/"
        },
        "id": "oLK7Y1jiNXDa",
        "outputId": "346ade2c-f413-47ba-9844-e9d3e85f1a45"
      },
      "outputs": [
        {
          "output_type": "stream",
          "name": "stdout",
          "text": [
            "Tensorflow version: 2.11.0\n",
            "GPU detected: [PhysicalDevice(name='/physical_device:GPU:0', device_type='GPU')]\n"
          ]
        }
      ],
      "source": [
        "%matplotlib inline\n",
        "import matplotlib.pyplot as plt\n",
        "import pandas as pd\n",
        "import numpy as np\n",
        "\n",
        "from sklearn.model_selection import train_test_split\n",
        "import tensorflow as tf\n",
        "from tensorflow.keras.preprocessing.sequence import pad_sequences\n",
        "from tensorflow.keras import Model, Input\n",
        "from tensorflow.keras.layers import LSTM, Embedding, Dense\n",
        "from tensorflow.keras.layers import TimeDistributed, SpatialDropout1D, Bidirectional\n",
        "from tensorflow.keras.callbacks import ModelCheckpoint, EarlyStopping\n",
        "from livelossplot.tf_keras import PlotLossesCallback\n",
        "np.random.seed(0)\n",
        "plt.style.use(\"ggplot\")\n",
        "print('Tensorflow version:', tf.__version__)\n",
        "print('GPU detected:', tf.config.list_physical_devices('GPU'))"
      ]
    },
    {
      "cell_type": "markdown",
      "source": [
        "**Connecting to google drive**"
      ],
      "metadata": {
        "id": "Ox2IGfzhqO5V"
      }
    },
    {
      "cell_type": "code",
      "execution_count": 3,
      "metadata": {
        "colab": {
          "base_uri": "https://localhost:8080/"
        },
        "id": "q0UMo4sxQQRd",
        "outputId": "3c4042f4-dc9a-492f-8073-6917cc98f5d3"
      },
      "outputs": [
        {
          "output_type": "stream",
          "name": "stdout",
          "text": [
            "Mounted at /content/drive\n"
          ]
        }
      ],
      "source": [
        "from google.colab import drive\n",
        "drive.mount('/content/drive')"
      ]
    },
    {
      "cell_type": "markdown",
      "source": [
        "**Loader class, which is used for load and preprocessing data**\n",
        "\n",
        "For using this object, you should change path of data"
      ],
      "metadata": {
        "id": "j0-VxUzBqWMG"
      }
    },
    {
      "cell_type": "code",
      "execution_count": 4,
      "metadata": {
        "id": "-BYqcSo5QI2_"
      },
      "outputs": [],
      "source": [
        "import codecs\n",
        "import math\n",
        "from os import listdir\n",
        "from os.path import isfile, join\n",
        "\n",
        "import numpy as np\n",
        "import tqdm\n",
        "import torch\n",
        "from hazm import *\n",
        "from sklearn.feature_extraction.text import TfidfVectorizer\n",
        "from transformers import AutoModel, AutoTokenizer\n",
        "from sklearn.preprocessing import normalize\n",
        "\n",
        "class Loader:\n",
        "    path_data = '/content/drive/My Drive/NLP-Project/samples.out.txt'\n",
        "    start_tag_list = ['<c>', '<m>', '<e>']\n",
        "    end_tag_list = ['</c>', '</m>', '</e>']\n",
        "    none_tag = '<none>'\n",
        "\n",
        "    def __init__(self):\n",
        "        self.normalizer = Normalizer()\n",
        "        self.lemmatizer = Lemmatizer()\n",
        "\n",
        "    def create_data_label(self):\n",
        "        lines = codecs.open(self.path_data, 'r', 'utf-8').readlines()\n",
        "\n",
        "        sent_token_list = []\n",
        "        sent_label_list = []\n",
        "        for sent in lines:\n",
        "            sent = self.normalizer.normalize(sent)\n",
        "            token_list = []\n",
        "            label_list = []\n",
        "            last_tag = self.none_tag\n",
        "            for token in word_tokenize(sent):\n",
        "                if token in self.start_tag_list:\n",
        "                    last_tag = token\n",
        "                    continue\n",
        "                if token in self.end_tag_list:\n",
        "                    last_tag = self.none_tag\n",
        "                    continue\n",
        "\n",
        "                token_list.append(self.lemmatizer.lemmatize(token))\n",
        "                label_list.append(last_tag)\n",
        "\n",
        "            sent_token_list.append(token_list)\n",
        "            sent_label_list.append(label_list)\n",
        "        return sent_token_list, sent_label_list\n",
        "\n",
        "\n",
        "loader = Loader()\n",
        "sent_token_list, sent_label_list = loader.create_data_label()"
      ]
    },
    {
      "cell_type": "markdown",
      "source": [
        "**Sentence_word_tag_Getter class, which is used to produce the shape of data needed for model**"
      ],
      "metadata": {
        "id": "2Af8MgserECZ"
      }
    },
    {
      "cell_type": "code",
      "execution_count": 5,
      "metadata": {
        "id": "VdJst_g5NYY_"
      },
      "outputs": [],
      "source": [
        "class Sentence_word_tag_Getter:\n",
        "    def __init__(self, sent_token_list, sent_label_list):\n",
        "        self.sent_token_list = sent_token_list\n",
        "        self.sent_label_list = sent_label_list\n",
        "        \n",
        "    def sent_maker(self):\n",
        "      sents = []\n",
        "      for i in range (len(self.sent_token_list)):\n",
        "          sents.append([])\n",
        "          for j in range (len(self.sent_label_list[i])):\n",
        "            sents[i].append((self.sent_token_list[i][j],self.sent_label_list[i][j]))\n",
        "      return sents\n",
        "\n",
        "    def words_maker(self):\n",
        "      words = []\n",
        "      for i in range(len(self.sent_token_list)):\n",
        "        for word in self.sent_token_list[i]:\n",
        "          words.append(word)  \n",
        "      \n",
        "      words = list(set(words))\n",
        "      words.append(\"ENDPAD\")\n",
        "      num_words = len(words)\n",
        "\n",
        "      return words, num_words\n",
        "\n",
        "    def tag_maker(self):\n",
        "      tags = []\n",
        "      for i in range(len(self.sent_token_list)):\n",
        "        for tag in self.sent_label_list[i]:\n",
        "          tags.append(tag)\n",
        "\n",
        "      tags = list(set(tags))\n",
        "      num_tags = len(tags)\n",
        "      \n",
        "      return tags, num_tags"
      ]
    },
    {
      "cell_type": "code",
      "execution_count": 6,
      "metadata": {
        "id": "nMUQLppspkPj"
      },
      "outputs": [],
      "source": [
        "getter = Sentence_word_tag_Getter(sent_token_list,sent_label_list)\n",
        "sentences = getter.sent_maker()\n",
        "words, num_words = getter.words_maker()\n",
        "tags, num_tags = getter.tag_maker()"
      ]
    },
    {
      "cell_type": "markdown",
      "source": [
        "**Making word2idx and tag2idx in order to indexing words and tags**"
      ],
      "metadata": {
        "id": "4QIHyC-LragH"
      }
    },
    {
      "cell_type": "code",
      "execution_count": 7,
      "metadata": {
        "id": "SvENHO18pkaQ"
      },
      "outputs": [],
      "source": [
        "word2idx = {w: i + 1 for i, w in enumerate(words)}\n",
        "tag2idx = {t: i for i, t in enumerate(tags)}"
      ]
    },
    {
      "cell_type": "code",
      "execution_count": 8,
      "metadata": {
        "colab": {
          "base_uri": "https://localhost:8080/",
          "height": 265
        },
        "id": "R44g5T7NYp_H",
        "outputId": "cf041f6f-e173-4208-d9d5-4b5923bf6f6b"
      },
      "outputs": [
        {
          "output_type": "display_data",
          "data": {
            "text/plain": [
              "<Figure size 432x288 with 1 Axes>"
            ],
            "image/png": "[encoded data removed]"
          },
          "metadata": {}
        }
      ],
      "source": [
        "plt.hist([len(s) for s in sentences], bins=50)\n",
        "plt.show()"
      ]
    },
    {
      "cell_type": "markdown",
      "source": [
        "**Making Dataset**"
      ],
      "metadata": {
        "id": "JT3X3z-tr8y8"
      }
    },
    {
      "cell_type": "code",
      "execution_count": 9,
      "metadata": {
        "id": "FS4u3CRkpkc1"
      },
      "outputs": [],
      "source": [
        "max_len = 40\n",
        "\n",
        "X = [[word2idx[w[0]] for w in s] for s in sentences]\n",
        "X = pad_sequences(maxlen=max_len, sequences=X, padding=\"post\", value=num_words-1)\n",
        "\n",
        "y = [[tag2idx[w[1]] for w in s] for s in sentences]\n",
        "y = pad_sequences(maxlen=max_len, sequences=y, padding=\"post\", value=tag2idx[\"<none>\"])"
      ]
    },
    {
      "cell_type": "markdown",
      "source": [
        "**Splitting Dataset**"
      ],
      "metadata": {
        "id": "ls8B7wTlr2Zq"
      }
    },
    {
      "cell_type": "code",
      "execution_count": 10,
      "metadata": {
        "id": "q7VfnnkXpkfS"
      },
      "outputs": [],
      "source": [
        "x_train, x_test, y_train, y_test = train_test_split(X, y, test_size=0.2, random_state=1)"
      ]
    },
    {
      "cell_type": "markdown",
      "source": [
        "**Create and compile and train the main Model**"
      ],
      "metadata": {
        "id": "yT2HecPssDww"
      }
    },
    {
      "cell_type": "code",
      "execution_count": 11,
      "metadata": {
        "colab": {
          "base_uri": "https://localhost:8080/"
        },
        "id": "Aee3mCZ3pkkv",
        "outputId": "2d71077d-4d7c-40a0-81ca-46aa9ddbdc7b"
      },
      "outputs": [
        {
          "output_type": "stream",
          "name": "stderr",
          "text": [
            "WARNING:tensorflow:Layer lstm will not use cuDNN kernels since it doesn't meet the criteria. It will use a generic GPU kernel as fallback when running on GPU.\n",
            "WARNING:tensorflow:Layer lstm will not use cuDNN kernels since it doesn't meet the criteria. It will use a generic GPU kernel as fallback when running on GPU.\n",
            "WARNING:tensorflow:Layer lstm will not use cuDNN kernels since it doesn't meet the criteria. It will use a generic GPU kernel as fallback when running on GPU.\n"
          ]
        },
        {
          "output_type": "stream",
          "name": "stdout",
          "text": [
            "Model: \"model\"\n",
            "_________________________________________________________________\n",
            " Layer (type)                Output Shape              Param #   \n",
            "=================================================================\n",
            " input_1 (InputLayer)        [(None, 40)]              0         \n",
            "                                                                 \n",
            " embedding (Embedding)       (None, 40, 50)            370900    \n",
            "                                                                 \n",
            " spatial_dropout1d (SpatialD  (None, 40, 50)           0         \n",
            " ropout1D)                                                       \n",
            "                                                                 \n",
            " bidirectional (Bidirectiona  (None, 40, 200)          120800    \n",
            " l)                                                              \n",
            "                                                                 \n",
            " time_distributed (TimeDistr  (None, 40, 4)            804       \n",
            " ibuted)                                                         \n",
            "                                                                 \n",
            "=================================================================\n",
            "Total params: 492,504\n",
            "Trainable params: 492,504\n",
            "Non-trainable params: 0\n",
            "_________________________________________________________________\n"
          ]
        }
      ],
      "source": [
        "input_word = Input(shape=(max_len,))\n",
        "model = Embedding(input_dim=num_words, output_dim=50, input_length=max_len)(input_word)\n",
        "model = SpatialDropout1D(0.1)(model)\n",
        "model = Bidirectional(LSTM(units=100, return_sequences=True, recurrent_dropout=0.1))(model)\n",
        "out = TimeDistributed(Dense(num_tags, activation=\"softmax\"))(model)\n",
        "model = Model(input_word, out)\n",
        "model.summary()"
      ]
    },
    {
      "cell_type": "code",
      "execution_count": 12,
      "metadata": {
        "id": "kOBpQg26pkqh"
      },
      "outputs": [],
      "source": [
        "model.compile(optimizer=\"adam\",\n",
        "              loss=\"sparse_categorical_crossentropy\",\n",
        "              metrics=[\"accuracy\"])"
      ]
    },
    {
      "cell_type": "code",
      "execution_count": 13,
      "metadata": {
        "colab": {
          "base_uri": "https://localhost:8080/",
          "height": 776
        },
        "id": "Q9HWH06Ypkxh",
        "outputId": "a9a711cf-2196-4e53-80f1-0b190739b431"
      },
      "outputs": [
        {
          "output_type": "display_data",
          "data": {
            "text/plain": [
              "<Figure size 864x576 with 2 Axes>"
            ],
            "image/png": "[encoded data removed]"
          },
          "metadata": {}
        },
        {
          "output_type": "stream",
          "name": "stdout",
          "text": [
            "accuracy\n",
            "\ttraining         \t (min:    0.705, max:    0.934, cur:    0.934)\n",
            "\tvalidation       \t (min:    0.755, max:    0.839, cur:    0.834)\n",
            "Loss\n",
            "\ttraining         \t (min:    0.181, max:    0.730, cur:    0.181)\n",
            "\tvalidation       \t (min:    0.415, max:    0.569, cur:    0.462)\n",
            "\n",
            "Epoch 8: val_loss did not improve from 0.41509\n",
            "83/83 [==============================] - 29s 354ms/step - loss: 0.1808 - accuracy: 0.9338 - val_loss: 0.4619 - val_accuracy: 0.8339\n",
            "CPU times: user 5min 12s, sys: 34.6 s, total: 5min 46s\n",
            "Wall time: 4min 16s\n"
          ]
        }
      ],
      "source": [
        "%%time\n",
        "\n",
        "chkpt = ModelCheckpoint(\"model_weights.h5\", monitor='val_loss',verbose=1, save_best_only=True, save_weights_only=True, mode='min')\n",
        "\n",
        "early_stopping = EarlyStopping(monitor='val_accuracy', min_delta=0, patience=1, verbose=0, mode='max', baseline=None, restore_best_weights=False)\n",
        "\n",
        "callbacks = [PlotLossesCallback(), chkpt, early_stopping]\n",
        "\n",
        "history = model.fit(\n",
        "    x=x_train,\n",
        "    y=y_train,\n",
        "    validation_data=(x_test,y_test),\n",
        "    batch_size=32, \n",
        "    epochs=10,\n",
        "    callbacks=callbacks,\n",
        "    verbose=1\n",
        ")"
      ]
    },
    {
      "cell_type": "markdown",
      "source": [
        "**Evaluate and save the model**"
      ],
      "metadata": {
        "id": "McQAuePxssgE"
      }
    },
    {
      "cell_type": "code",
      "execution_count": 14,
      "metadata": {
        "colab": {
          "base_uri": "https://localhost:8080/"
        },
        "id": "6euqX7UHplG7",
        "outputId": "232e90e0-6c82-446a-e600-03acff3a10f6"
      },
      "outputs": [
        {
          "output_type": "stream",
          "name": "stdout",
          "text": [
            "21/21 [==============================] - 1s 25ms/step - loss: 0.4619 - accuracy: 0.8339\n"
          ]
        },
        {
          "output_type": "execute_result",
          "data": {
            "text/plain": [
              "[0.461917906999588, 0.8339040875434875]"
            ]
          },
          "metadata": {},
          "execution_count": 14
        }
      ],
      "source": [
        "model.evaluate(x_test, y_test)"
      ]
    },
    {
      "cell_type": "code",
      "source": [
        "model.save('/content/drive/My Drive/NLP-Project/Cause_Effect_Detection_NER.h5')"
      ],
      "metadata": {
        "id": "IPY2J6PzuA33"
      },
      "execution_count": 15,
      "outputs": []
    },
    {
      "cell_type": "markdown",
      "source": [
        "**Showing an example output of model**"
      ],
      "metadata": {
        "id": "lbMw3P7qst7z"
      }
    },
    {
      "cell_type": "code",
      "execution_count": 16,
      "metadata": {
        "colab": {
          "base_uri": "https://localhost:8080/"
        },
        "id": "Tyg4mKOVplJ-",
        "outputId": "1cd57779-4f3c-4577-afc0-3ed3143680a7"
      },
      "outputs": [
        {
          "output_type": "stream",
          "name": "stdout",
          "text": [
            "1/1 [==============================] - 0s 407ms/step\n",
            "Word           True \t Pred\n",
            "\n",
            "------------------------------\n",
            "اجرا           <c>\t<c>\n",
            "موافقتنامه‌های <c>\t<c>\n",
            "تجار           <c>\t<c>\n",
            "و              <c>\t<c>\n",
            "حمایت          <c>\t<c>\n",
            "از             <c>\t<c>\n",
            "نیرو           <c>\t<c>\n",
            "کار            <c>\t<c>\n",
            "توانست#توان    <none>\t<none>\n",
            "تأثیر          <m>\t<m>\n",
            "بسزایی         <m>\t<m>\n",
            "در             <m>\t<m>\n",
            "ارتقا          <e>\t<e>\n",
            "ثبات           <e>\t<e>\n",
            "و              <e>\t<e>\n",
            "امنیت          <e>\t<e>\n",
            "اقتصاد         <e>\t<e>\n",
            "بیشتر          <e>\t<e>\n",
            "در             <e>\t<e>\n",
            "کشور           <e>\t<e>\n",
            "مبدا           <e>\t<e>\n",
            "مهاجرت         <e>\t<e>\n",
            "داشت#دار       <none>\t<none>\n",
            ".              <none>\t<none>\n",
            "رومانی         <none>\t<none>\n",
            "رومانی         <none>\t<none>\n",
            "رومانی         <none>\t<none>\n",
            "رومانی         <none>\t<none>\n",
            "رومانی         <none>\t<none>\n",
            "رومانی         <none>\t<none>\n",
            "رومانی         <none>\t<none>\n",
            "رومانی         <none>\t<none>\n",
            "رومانی         <none>\t<none>\n",
            "رومانی         <none>\t<none>\n",
            "رومانی         <none>\t<none>\n",
            "رومانی         <none>\t<none>\n",
            "رومانی         <none>\t<none>\n",
            "رومانی         <none>\t<none>\n",
            "رومانی         <none>\t<none>\n",
            "رومانی         <none>\t<none>\n"
          ]
        }
      ],
      "source": [
        "i = np.random.randint(0, x_test.shape[0]) #659\n",
        "p = model.predict(np.array([x_test[i]]))\n",
        "p = np.argmax(p, axis=-1)\n",
        "y_true = y_test[i]\n",
        "print(\"{:15}{:5}\\t {}\\n\".format(\"Word\", \"True\", \"Pred\"))\n",
        "print(\"-\" *30)\n",
        "for w, true, pred in zip(x_test[i], y_true, p[0]):\n",
        "    print(\"{:15}{}\\t{}\".format(words[w-1], tags[true], tags[pred]))"
      ]
    }
  ],
  "metadata": {
    "accelerator": "GPU",
    "colab": {
      "provenance": []
    },
    "kernelspec": {
      "display_name": "Python 3",
      "language": "python",
      "name": "python3"
    },
    "language_info": {
      "codemirror_mode": {
        "name": "ipython",
        "version": 3
      },
      "file_extension": ".py",
      "mimetype": "text/x-python",
      "name": "python",
      "nbconvert_exporter": "python",
      "pygments_lexer": "ipython3",
      "version": "3.7.6"
    }
  },
  "nbformat": 4,
  "nbformat_minor": 0
}