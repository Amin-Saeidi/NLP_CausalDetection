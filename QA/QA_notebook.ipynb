{
  "nbformat": 4,
  "nbformat_minor": 0,
  "metadata": {
    "colab": {
      "provenance": []
    },
    "kernelspec": {
      "name": "python3",
      "display_name": "Python 3"
    },
    "language_info": {
      "name": "python"
    },
    "widgets": {
      "application/vnd.jupyter.widget-state+json": {
        "a1a47ecc401441e1822f5fa5bb71917c": {
          "model_module": "@jupyter-widgets/controls",
          "model_name": "HBoxModel",
          "model_module_version": "1.5.0",
          "state": {
            "_dom_classes": [],
            "_model_module": "@jupyter-widgets/controls",
            "_model_module_version": "1.5.0",
            "_model_name": "HBoxModel",
            "_view_count": null,
            "_view_module": "@jupyter-widgets/controls",
            "_view_module_version": "1.5.0",
            "_view_name": "HBoxView",
            "box_style": "",
            "children": [
              "IPY_MODEL_ba323f51ced3453b8df5edf50f533d84",
              "IPY_MODEL_8525e0c1164f4c288723523b558fa8b1",
              "IPY_MODEL_ea1bff50b2d24b0f95a3d1ed7928bbf3"
            ],
            "layout": "IPY_MODEL_95ab5bf1b4f8440a935cac5939f1c9d9"
          }
        },
        "ba323f51ced3453b8df5edf50f533d84": {
          "model_module": "@jupyter-widgets/controls",
          "model_name": "HTMLModel",
          "model_module_version": "1.5.0",
          "state": {
            "_dom_classes": [],
            "_model_module": "@jupyter-widgets/controls",
            "_model_module_version": "1.5.0",
            "_model_name": "HTMLModel",
            "_view_count": null,
            "_view_module": "@jupyter-widgets/controls",
            "_view_module_version": "1.5.0",
            "_view_name": "HTMLView",
            "description": "",
            "description_tooltip": null,
            "layout": "IPY_MODEL_81981c9c60834d25baab7391dcd9e812",
            "placeholder": "​",
            "style": "IPY_MODEL_1b0387e75d6042d9bd062b51eb2e6c08",
            "value": "Map: 100%"
          }
        },
        "8525e0c1164f4c288723523b558fa8b1": {
          "model_module": "@jupyter-widgets/controls",
          "model_name": "FloatProgressModel",
          "model_module_version": "1.5.0",
          "state": {
            "_dom_classes": [],
            "_model_module": "@jupyter-widgets/controls",
            "_model_module_version": "1.5.0",
            "_model_name": "FloatProgressModel",
            "_view_count": null,
            "_view_module": "@jupyter-widgets/controls",
            "_view_module_version": "1.5.0",
            "_view_name": "ProgressView",
            "bar_style": "",
            "description": "",
            "description_tooltip": null,
            "layout": "IPY_MODEL_28b4fa5a81a240f7a6277563692262bc",
            "max": 679,
            "min": 0,
            "orientation": "horizontal",
            "style": "IPY_MODEL_47be2035fbbe4c48ba20f5895a06bdfe",
            "value": 679
          }
        },
        "ea1bff50b2d24b0f95a3d1ed7928bbf3": {
          "model_module": "@jupyter-widgets/controls",
          "model_name": "HTMLModel",
          "model_module_version": "1.5.0",
          "state": {
            "_dom_classes": [],
            "_model_module": "@jupyter-widgets/controls",
            "_model_module_version": "1.5.0",
            "_model_name": "HTMLModel",
            "_view_count": null,
            "_view_module": "@jupyter-widgets/controls",
            "_view_module_version": "1.5.0",
            "_view_name": "HTMLView",
            "description": "",
            "description_tooltip": null,
            "layout": "IPY_MODEL_1334ca11729d4f89b581df0e139f28b7",
            "placeholder": "​",
            "style": "IPY_MODEL_7579890e09d546068d76b5371bb61167",
            "value": " 679/679 [00:00&lt;00:00, 3362.27 examples/s]"
          }
        },
        "95ab5bf1b4f8440a935cac5939f1c9d9": {
          "model_module": "@jupyter-widgets/base",
          "model_name": "LayoutModel",
          "model_module_version": "1.2.0",
          "state": {
            "_model_module": "@jupyter-widgets/base",
            "_model_module_version": "1.2.0",
            "_model_name": "LayoutModel",
            "_view_count": null,
            "_view_module": "@jupyter-widgets/base",
            "_view_module_version": "1.2.0",
            "_view_name": "LayoutView",
            "align_content": null,
            "align_items": null,
            "align_self": null,
            "border": null,
            "bottom": null,
            "display": null,
            "flex": null,
            "flex_flow": null,
            "grid_area": null,
            "grid_auto_columns": null,
            "grid_auto_flow": null,
            "grid_auto_rows": null,
            "grid_column": null,
            "grid_gap": null,
            "grid_row": null,
            "grid_template_areas": null,
            "grid_template_columns": null,
            "grid_template_rows": null,
            "height": null,
            "justify_content": null,
            "justify_items": null,
            "left": null,
            "margin": null,
            "max_height": null,
            "max_width": null,
            "min_height": null,
            "min_width": null,
            "object_fit": null,
            "object_position": null,
            "order": null,
            "overflow": null,
            "overflow_x": null,
            "overflow_y": null,
            "padding": null,
            "right": null,
            "top": null,
            "visibility": "hidden",
            "width": null
          }
        },
        "81981c9c60834d25baab7391dcd9e812": {
          "model_module": "@jupyter-widgets/base",
          "model_name": "LayoutModel",
          "model_module_version": "1.2.0",
          "state": {
            "_model_module": "@jupyter-widgets/base",
            "_model_module_version": "1.2.0",
            "_model_name": "LayoutModel",
            "_view_count": null,
            "_view_module": "@jupyter-widgets/base",
            "_view_module_version": "1.2.0",
            "_view_name": "LayoutView",
            "align_content": null,
            "align_items": null,
            "align_self": null,
            "border": null,
            "bottom": null,
            "display": null,
            "flex": null,
            "flex_flow": null,
            "grid_area": null,
            "grid_auto_columns": null,
            "grid_auto_flow": null,
            "grid_auto_rows": null,
            "grid_column": null,
            "grid_gap": null,
            "grid_row": null,
            "grid_template_areas": null,
            "grid_template_columns": null,
            "grid_template_rows": null,
            "height": null,
            "justify_content": null,
            "justify_items": null,
            "left": null,
            "margin": null,
            "max_height": null,
            "max_width": null,
            "min_height": null,
            "min_width": null,
            "object_fit": null,
            "object_position": null,
            "order": null,
            "overflow": null,
            "overflow_x": null,
            "overflow_y": null,
            "padding": null,
            "right": null,
            "top": null,
            "visibility": null,
            "width": null
          }
        },
        "1b0387e75d6042d9bd062b51eb2e6c08": {
          "model_module": "@jupyter-widgets/controls",
          "model_name": "DescriptionStyleModel",
          "model_module_version": "1.5.0",
          "state": {
            "_model_module": "@jupyter-widgets/controls",
            "_model_module_version": "1.5.0",
            "_model_name": "DescriptionStyleModel",
            "_view_count": null,
            "_view_module": "@jupyter-widgets/base",
            "_view_module_version": "1.2.0",
            "_view_name": "StyleView",
            "description_width": ""
          }
        },
        "28b4fa5a81a240f7a6277563692262bc": {
          "model_module": "@jupyter-widgets/base",
          "model_name": "LayoutModel",
          "model_module_version": "1.2.0",
          "state": {
            "_model_module": "@jupyter-widgets/base",
            "_model_module_version": "1.2.0",
            "_model_name": "LayoutModel",
            "_view_count": null,
            "_view_module": "@jupyter-widgets/base",
            "_view_module_version": "1.2.0",
            "_view_name": "LayoutView",
            "align_content": null,
            "align_items": null,
            "align_self": null,
            "border": null,
            "bottom": null,
            "display": null,
            "flex": null,
            "flex_flow": null,
            "grid_area": null,
            "grid_auto_columns": null,
            "grid_auto_flow": null,
            "grid_auto_rows": null,
            "grid_column": null,
            "grid_gap": null,
            "grid_row": null,
            "grid_template_areas": null,
            "grid_template_columns": null,
            "grid_template_rows": null,
            "height": null,
            "justify_content": null,
            "justify_items": null,
            "left": null,
            "margin": null,
            "max_height": null,
            "max_width": null,
            "min_height": null,
            "min_width": null,
            "object_fit": null,
            "object_position": null,
            "order": null,
            "overflow": null,
            "overflow_x": null,
            "overflow_y": null,
            "padding": null,
            "right": null,
            "top": null,
            "visibility": null,
            "width": null
          }
        },
        "47be2035fbbe4c48ba20f5895a06bdfe": {
          "model_module": "@jupyter-widgets/controls",
          "model_name": "ProgressStyleModel",
          "model_module_version": "1.5.0",
          "state": {
            "_model_module": "@jupyter-widgets/controls",
            "_model_module_version": "1.5.0",
            "_model_name": "ProgressStyleModel",
            "_view_count": null,
            "_view_module": "@jupyter-widgets/base",
            "_view_module_version": "1.2.0",
            "_view_name": "StyleView",
            "bar_color": null,
            "description_width": ""
          }
        },
        "1334ca11729d4f89b581df0e139f28b7": {
          "model_module": "@jupyter-widgets/base",
          "model_name": "LayoutModel",
          "model_module_version": "1.2.0",
          "state": {
            "_model_module": "@jupyter-widgets/base",
            "_model_module_version": "1.2.0",
            "_model_name": "LayoutModel",
            "_view_count": null,
            "_view_module": "@jupyter-widgets/base",
            "_view_module_version": "1.2.0",
            "_view_name": "LayoutView",
            "align_content": null,
            "align_items": null,
            "align_self": null,
            "border": null,
            "bottom": null,
            "display": null,
            "flex": null,
            "flex_flow": null,
            "grid_area": null,
            "grid_auto_columns": null,
            "grid_auto_flow": null,
            "grid_auto_rows": null,
            "grid_column": null,
            "grid_gap": null,
            "grid_row": null,
            "grid_template_areas": null,
            "grid_template_columns": null,
            "grid_template_rows": null,
            "height": null,
            "justify_content": null,
            "justify_items": null,
            "left": null,
            "margin": null,
            "max_height": null,
            "max_width": null,
            "min_height": null,
            "min_width": null,
            "object_fit": null,
            "object_position": null,
            "order": null,
            "overflow": null,
            "overflow_x": null,
            "overflow_y": null,
            "padding": null,
            "right": null,
            "top": null,
            "visibility": null,
            "width": null
          }
        },
        "7579890e09d546068d76b5371bb61167": {
          "model_module": "@jupyter-widgets/controls",
          "model_name": "DescriptionStyleModel",
          "model_module_version": "1.5.0",
          "state": {
            "_model_module": "@jupyter-widgets/controls",
            "_model_module_version": "1.5.0",
            "_model_name": "DescriptionStyleModel",
            "_view_count": null,
            "_view_module": "@jupyter-widgets/base",
            "_view_module_version": "1.2.0",
            "_view_name": "StyleView",
            "description_width": ""
          }
        },
        "51129c05afd24f849ef6a431577a9240": {
          "model_module": "@jupyter-widgets/controls",
          "model_name": "HBoxModel",
          "model_module_version": "1.5.0",
          "state": {
            "_dom_classes": [],
            "_model_module": "@jupyter-widgets/controls",
            "_model_module_version": "1.5.0",
            "_model_name": "HBoxModel",
            "_view_count": null,
            "_view_module": "@jupyter-widgets/controls",
            "_view_module_version": "1.5.0",
            "_view_name": "HBoxView",
            "box_style": "",
            "children": [
              "IPY_MODEL_421fe893cc944362a30b9d06b807306e",
              "IPY_MODEL_36a3f0c25684441b9c5a36f3c0af0702",
              "IPY_MODEL_8aae3a0084b0440f8e1b78f84be85921"
            ],
            "layout": "IPY_MODEL_a9cc0e7513134b73b9576629a00f1a71"
          }
        },
        "421fe893cc944362a30b9d06b807306e": {
          "model_module": "@jupyter-widgets/controls",
          "model_name": "HTMLModel",
          "model_module_version": "1.5.0",
          "state": {
            "_dom_classes": [],
            "_model_module": "@jupyter-widgets/controls",
            "_model_module_version": "1.5.0",
            "_model_name": "HTMLModel",
            "_view_count": null,
            "_view_module": "@jupyter-widgets/controls",
            "_view_module_version": "1.5.0",
            "_view_name": "HTMLView",
            "description": "",
            "description_tooltip": null,
            "layout": "IPY_MODEL_07529791be0348af8bbdebf341414d04",
            "placeholder": "​",
            "style": "IPY_MODEL_d9cf4a667eb545a29867604f99ce2146",
            "value": "Map: 100%"
          }
        },
        "36a3f0c25684441b9c5a36f3c0af0702": {
          "model_module": "@jupyter-widgets/controls",
          "model_name": "FloatProgressModel",
          "model_module_version": "1.5.0",
          "state": {
            "_dom_classes": [],
            "_model_module": "@jupyter-widgets/controls",
            "_model_module_version": "1.5.0",
            "_model_name": "FloatProgressModel",
            "_view_count": null,
            "_view_module": "@jupyter-widgets/controls",
            "_view_module_version": "1.5.0",
            "_view_name": "ProgressView",
            "bar_style": "",
            "description": "",
            "description_tooltip": null,
            "layout": "IPY_MODEL_efda54a23ec949cebe4ac5ce18ea4c87",
            "max": 679,
            "min": 0,
            "orientation": "horizontal",
            "style": "IPY_MODEL_d24b2d84b03f47f789bed51d2b975cf2",
            "value": 679
          }
        },
        "8aae3a0084b0440f8e1b78f84be85921": {
          "model_module": "@jupyter-widgets/controls",
          "model_name": "HTMLModel",
          "model_module_version": "1.5.0",
          "state": {
            "_dom_classes": [],
            "_model_module": "@jupyter-widgets/controls",
            "_model_module_version": "1.5.0",
            "_model_name": "HTMLModel",
            "_view_count": null,
            "_view_module": "@jupyter-widgets/controls",
            "_view_module_version": "1.5.0",
            "_view_name": "HTMLView",
            "description": "",
            "description_tooltip": null,
            "layout": "IPY_MODEL_97ccf137724544e5b8d7fc623220f4b4",
            "placeholder": "​",
            "style": "IPY_MODEL_3f21e1c8cbae423d800dcf6626f50c00",
            "value": " 679/679 [00:00&lt;00:00, 3244.92 examples/s]"
          }
        },
        "a9cc0e7513134b73b9576629a00f1a71": {
          "model_module": "@jupyter-widgets/base",
          "model_name": "LayoutModel",
          "model_module_version": "1.2.0",
          "state": {
            "_model_module": "@jupyter-widgets/base",
            "_model_module_version": "1.2.0",
            "_model_name": "LayoutModel",
            "_view_count": null,
            "_view_module": "@jupyter-widgets/base",
            "_view_module_version": "1.2.0",
            "_view_name": "LayoutView",
            "align_content": null,
            "align_items": null,
            "align_self": null,
            "border": null,
            "bottom": null,
            "display": null,
            "flex": null,
            "flex_flow": null,
            "grid_area": null,
            "grid_auto_columns": null,
            "grid_auto_flow": null,
            "grid_auto_rows": null,
            "grid_column": null,
            "grid_gap": null,
            "grid_row": null,
            "grid_template_areas": null,
            "grid_template_columns": null,
            "grid_template_rows": null,
            "height": null,
            "justify_content": null,
            "justify_items": null,
            "left": null,
            "margin": null,
            "max_height": null,
            "max_width": null,
            "min_height": null,
            "min_width": null,
            "object_fit": null,
            "object_position": null,
            "order": null,
            "overflow": null,
            "overflow_x": null,
            "overflow_y": null,
            "padding": null,
            "right": null,
            "top": null,
            "visibility": "hidden",
            "width": null
          }
        },
        "07529791be0348af8bbdebf341414d04": {
          "model_module": "@jupyter-widgets/base",
          "model_name": "LayoutModel",
          "model_module_version": "1.2.0",
          "state": {
            "_model_module": "@jupyter-widgets/base",
            "_model_module_version": "1.2.0",
            "_model_name": "LayoutModel",
            "_view_count": null,
            "_view_module": "@jupyter-widgets/base",
            "_view_module_version": "1.2.0",
            "_view_name": "LayoutView",
            "align_content": null,
            "align_items": null,
            "align_self": null,
            "border": null,
            "bottom": null,
            "display": null,
            "flex": null,
            "flex_flow": null,
            "grid_area": null,
            "grid_auto_columns": null,
            "grid_auto_flow": null,
            "grid_auto_rows": null,
            "grid_column": null,
            "grid_gap": null,
            "grid_row": null,
            "grid_template_areas": null,
            "grid_template_columns": null,
            "grid_template_rows": null,
            "height": null,
            "justify_content": null,
            "justify_items": null,
            "left": null,
            "margin": null,
            "max_height": null,
            "max_width": null,
            "min_height": null,
            "min_width": null,
            "object_fit": null,
            "object_position": null,
            "order": null,
            "overflow": null,
            "overflow_x": null,
            "overflow_y": null,
            "padding": null,
            "right": null,
            "top": null,
            "visibility": null,
            "width": null
          }
        },
        "d9cf4a667eb545a29867604f99ce2146": {
          "model_module": "@jupyter-widgets/controls",
          "model_name": "DescriptionStyleModel",
          "model_module_version": "1.5.0",
          "state": {
            "_model_module": "@jupyter-widgets/controls",
            "_model_module_version": "1.5.0",
            "_model_name": "DescriptionStyleModel",
            "_view_count": null,
            "_view_module": "@jupyter-widgets/base",
            "_view_module_version": "1.2.0",
            "_view_name": "StyleView",
            "description_width": ""
          }
        },
        "efda54a23ec949cebe4ac5ce18ea4c87": {
          "model_module": "@jupyter-widgets/base",
          "model_name": "LayoutModel",
          "model_module_version": "1.2.0",
          "state": {
            "_model_module": "@jupyter-widgets/base",
            "_model_module_version": "1.2.0",
            "_model_name": "LayoutModel",
            "_view_count": null,
            "_view_module": "@jupyter-widgets/base",
            "_view_module_version": "1.2.0",
            "_view_name": "LayoutView",
            "align_content": null,
            "align_items": null,
            "align_self": null,
            "border": null,
            "bottom": null,
            "display": null,
            "flex": null,
            "flex_flow": null,
            "grid_area": null,
            "grid_auto_columns": null,
            "grid_auto_flow": null,
            "grid_auto_rows": null,
            "grid_column": null,
            "grid_gap": null,
            "grid_row": null,
            "grid_template_areas": null,
            "grid_template_columns": null,
            "grid_template_rows": null,
            "height": null,
            "justify_content": null,
            "justify_items": null,
            "left": null,
            "margin": null,
            "max_height": null,
            "max_width": null,
            "min_height": null,
            "min_width": null,
            "object_fit": null,
            "object_position": null,
            "order": null,
            "overflow": null,
            "overflow_x": null,
            "overflow_y": null,
            "padding": null,
            "right": null,
            "top": null,
            "visibility": null,
            "width": null
          }
        },
        "d24b2d84b03f47f789bed51d2b975cf2": {
          "model_module": "@jupyter-widgets/controls",
          "model_name": "ProgressStyleModel",
          "model_module_version": "1.5.0",
          "state": {
            "_model_module": "@jupyter-widgets/controls",
            "_model_module_version": "1.5.0",
            "_model_name": "ProgressStyleModel",
            "_view_count": null,
            "_view_module": "@jupyter-widgets/base",
            "_view_module_version": "1.2.0",
            "_view_name": "StyleView",
            "bar_color": null,
            "description_width": ""
          }
        },
        "97ccf137724544e5b8d7fc623220f4b4": {
          "model_module": "@jupyter-widgets/base",
          "model_name": "LayoutModel",
          "model_module_version": "1.2.0",
          "state": {
            "_model_module": "@jupyter-widgets/base",
            "_model_module_version": "1.2.0",
            "_model_name": "LayoutModel",
            "_view_count": null,
            "_view_module": "@jupyter-widgets/base",
            "_view_module_version": "1.2.0",
            "_view_name": "LayoutView",
            "align_content": null,
            "align_items": null,
            "align_self": null,
            "border": null,
            "bottom": null,
            "display": null,
            "flex": null,
            "flex_flow": null,
            "grid_area": null,
            "grid_auto_columns": null,
            "grid_auto_flow": null,
            "grid_auto_rows": null,
            "grid_column": null,
            "grid_gap": null,
            "grid_row": null,
            "grid_template_areas": null,
            "grid_template_columns": null,
            "grid_template_rows": null,
            "height": null,
            "justify_content": null,
            "justify_items": null,
            "left": null,
            "margin": null,
            "max_height": null,
            "max_width": null,
            "min_height": null,
            "min_width": null,
            "object_fit": null,
            "object_position": null,
            "order": null,
            "overflow": null,
            "overflow_x": null,
            "overflow_y": null,
            "padding": null,
            "right": null,
            "top": null,
            "visibility": null,
            "width": null
          }
        },
        "3f21e1c8cbae423d800dcf6626f50c00": {
          "model_module": "@jupyter-widgets/controls",
          "model_name": "DescriptionStyleModel",
          "model_module_version": "1.5.0",
          "state": {
            "_model_module": "@jupyter-widgets/controls",
            "_model_module_version": "1.5.0",
            "_model_name": "DescriptionStyleModel",
            "_view_count": null,
            "_view_module": "@jupyter-widgets/base",
            "_view_module_version": "1.2.0",
            "_view_name": "StyleView",
            "description_width": ""
          }
        }
      }
    }
  },
  "cells": [
    {
      "cell_type": "markdown",
      "source": [
        "# Finding Causal Relations With Question Answering Models\n",
        "In this notebook we train three models.  \n",
        "\n",
        "1.   The role of the first model is to find the causal marker given the sentnece.\n",
        "2.   The role of the second model is to find the cause given the marker and the sentence.\n",
        "3.   The role of the third model is to find the effect give the marker and the sentence. \n",
        "\n",
        "First install dependencies.\n"
      ],
      "metadata": {
        "id": "GfEijTvFgT3c"
      }
    },
    {
      "cell_type": "code",
      "execution_count": 2,
      "metadata": {
        "colab": {
          "base_uri": "https://localhost:8080/"
        },
        "id": "DFGjhXKcHb-Y",
        "outputId": "0c29c77b-dfdf-4fda-d108-940af18bb1f3"
      },
      "outputs": [
        {
          "output_type": "stream",
          "name": "stdout",
          "text": [
            "Looking in indexes: https://pypi.org/simple, https://us-python.pkg.dev/colab-wheels/public/simple/\n",
            "Looking in indexes: https://pypi.org/simple, https://us-python.pkg.dev/colab-wheels/public/simple/\n"
          ]
        }
      ],
      "source": [
        "!pip install datasets | grep -v 'already satisfied'\n",
        "!pip install transformers | grep -v 'already satisfied'"
      ]
    },
    {
      "cell_type": "code",
      "source": [
        "import json\n",
        "import pandas as pd\n",
        "import pyarrow as pa\n",
        "import pyarrow.dataset as ds\n",
        "from datasets import Dataset\n",
        "import datasets\n",
        "import numpy as np\n",
        "import torch\n",
        "from transformers import AutoTokenizer, AutoConfig, AutoModelForQuestionAnswering, TrainingArguments, Trainer\n",
        "from pathlib import Path\n",
        "from tools import get_p_and_r, run_model"
      ],
      "metadata": {
        "id": "22yubsB7HhUJ"
      },
      "execution_count": 3,
      "outputs": []
    },
    {
      "cell_type": "markdown",
      "source": [
        "## Data & Model\n",
        "In this section the data is read from a json file and is converted to a dataset. Furthermore, the model initializations is done here."
      ],
      "metadata": {
        "id": "-gI9k8p4jH4u"
      }
    },
    {
      "cell_type": "code",
      "source": [
        "model_name = \"HooshvareLab/bert-fa-base-uncased\"\n",
        "tokenizer, config = AutoTokenizer.from_pretrained(model_name), AutoConfig.from_pretrained(model_name)\n",
        "model = AutoModelForQuestionAnswering.from_pretrained(model_name)\n",
        "\n",
        "file = json.load(open('data_effect.json', 'r', encoding='utf-8'))\n",
        "df = pd.json_normalize(file['data']).sample(frac=1, random_state=10) # 3080\n",
        "dataset = ds.dataset(pa.Table.from_pandas(df).to_batches())\n",
        "train_data = Dataset(pa.Table.from_pandas(df.iloc[:2400]))\n",
        "validation_data = Dataset(pa.Table.from_pandas(df.iloc[2400: ]))\n",
        "data = datasets.DatasetDict({\"train\":train_data,\"validation\": validation_data})\n"
      ],
      "metadata": {
        "id": "GVeIGpL4HkFr"
      },
      "execution_count": null,
      "outputs": []
    },
    {
      "cell_type": "markdown",
      "source": [
        "## Preprocess\n",
        "This function is to convert our dataset to the suitable format for QA models."
      ],
      "metadata": {
        "id": "JBuZDmDCjbJz"
      }
    },
    {
      "cell_type": "code",
      "source": [
        "def preprocess(examples):\n",
        "    \"\"\"\n",
        "    Prepare the data to be fed into QA model.\n",
        "\n",
        "    :param examples: A dataset containing context and answer and question\n",
        "    :return:\n",
        "    \"\"\"\n",
        "\n",
        "    tokenized_examples = tokenizer(examples[\"question\"], examples[\"context\"], return_offsets_mapping=True)\n",
        "    tokenized_examples['start_positions'], tokenized_examples['end_positions'] = [], []\n",
        "\n",
        "    cls_index = 0\n",
        "    for i, offset in enumerate(tokenized_examples['offset_mapping']):\n",
        "        answer = examples['answers'][i][0]\n",
        "\n",
        "        types = np.array(tokenized_examples.sequence_ids(i))\n",
        "        types[types == None] = 0\n",
        "        types.astype(int)\n",
        "\n",
        "        if len(answer['text'][0]) == 0:\n",
        "            s, e = cls_index, cls_index\n",
        "\n",
        "        else:\n",
        "            s_diff = np.abs(np.array([offset[idx][0] - answer['answer_start'][0] for idx in range(len(offset))]))\n",
        "            s = np.argmin([s_diff[idx] + 100 * (1 - types[idx]) for idx in range(len(s_diff))])\n",
        "\n",
        "            e_diff = np.abs(np.array(\n",
        "                [offset[idx][1] - answer['answer_start'][0] - len(answer['text'][0]) for idx in range(len(offset))]))\n",
        "            e = np.argmin([e_diff[idx] + 100 * (1 - types[idx]) for idx in range(len(e_diff))])\n",
        "\n",
        "        tokenized_examples['start_positions'].append(s)\n",
        "        tokenized_examples['end_positions'].append(e)\n",
        "\n",
        "    tokenized_examples.pop('offset_mapping')\n",
        "    return tokenized_examples"
      ],
      "metadata": {
        "id": "Xrg1v6_Hi7my"
      },
      "execution_count": null,
      "outputs": []
    },
    {
      "cell_type": "markdown",
      "source": [
        "## Train\n",
        "In this section the data is preprocessed then fed into the model for training process. "
      ],
      "metadata": {
        "id": "va9E8ATijq55"
      }
    },
    {
      "cell_type": "code",
      "source": [
        "tokenized_ds = data.map(preprocess, batched=True, remove_columns=data[\"train\"].column_names)\n",
        "\n",
        "args = TrainingArguments(\n",
        "    f\"result\",\n",
        "    evaluation_strategy = \"steps\", # 'epochs'\n",
        "    eval_steps = 12,\n",
        "    learning_rate=5e-5,\n",
        "    per_device_train_batch_size=16,\n",
        "    per_device_eval_batch_size=16,\n",
        "    num_train_epochs=1,\n",
        "    weight_decay=0) \n",
        "\n",
        "trainer = Trainer(\n",
        "    model=model,\n",
        "    args=args,\n",
        "    train_dataset=tokenized_ds['train'],\n",
        "    eval_dataset=tokenized_ds['validation'],\n",
        "    tokenizer=tokenizer)\n",
        "\n",
        "trainer.train()\n"
      ],
      "metadata": {
        "colab": {
          "base_uri": "https://localhost:8080/",
          "height": 693,
          "referenced_widgets": [
            "a1a47ecc401441e1822f5fa5bb71917c",
            "ba323f51ced3453b8df5edf50f533d84",
            "8525e0c1164f4c288723523b558fa8b1",
            "ea1bff50b2d24b0f95a3d1ed7928bbf3",
            "95ab5bf1b4f8440a935cac5939f1c9d9",
            "81981c9c60834d25baab7391dcd9e812",
            "1b0387e75d6042d9bd062b51eb2e6c08",
            "28b4fa5a81a240f7a6277563692262bc",
            "47be2035fbbe4c48ba20f5895a06bdfe",
            "1334ca11729d4f89b581df0e139f28b7",
            "7579890e09d546068d76b5371bb61167",
            "51129c05afd24f849ef6a431577a9240",
            "421fe893cc944362a30b9d06b807306e",
            "36a3f0c25684441b9c5a36f3c0af0702",
            "8aae3a0084b0440f8e1b78f84be85921",
            "a9cc0e7513134b73b9576629a00f1a71",
            "07529791be0348af8bbdebf341414d04",
            "d9cf4a667eb545a29867604f99ce2146",
            "efda54a23ec949cebe4ac5ce18ea4c87",
            "d24b2d84b03f47f789bed51d2b975cf2",
            "97ccf137724544e5b8d7fc623220f4b4",
            "3f21e1c8cbae423d800dcf6626f50c00"
          ]
        },
        "id": "ijbtXokwH2gO",
        "outputId": "bd11d3c2-7254-4aaa-8fb3-4e2710f66398"
      },
      "execution_count": null,
      "outputs": [
        {
          "output_type": "display_data",
          "data": {
            "text/plain": [
              "Map:   0%|          | 0/679 [00:00<?, ? examples/s]"
            ],
            "application/vnd.jupyter.widget-view+json": {
              "version_major": 2,
              "version_minor": 0,
              "model_id": "a1a47ecc401441e1822f5fa5bb71917c"
            }
          },
          "metadata": {}
        },
        {
          "output_type": "display_data",
          "data": {
            "text/plain": [
              "Map:   0%|          | 0/679 [00:00<?, ? examples/s]"
            ],
            "application/vnd.jupyter.widget-view+json": {
              "version_major": 2,
              "version_minor": 0,
              "model_id": "51129c05afd24f849ef6a431577a9240"
            }
          },
          "metadata": {}
        },
        {
          "output_type": "stream",
          "name": "stderr",
          "text": [
            "PyTorch: setting up devices\n",
            "The default value for the training argument `--report_to` will change in v5 (from all installed integrations to none). In v5, you will need to use `--report_to all` to get the same behavior as now. You should start updating your code and make this info disappear :-).\n",
            "/usr/local/lib/python3.8/dist-packages/transformers/optimization.py:306: FutureWarning: This implementation of AdamW is deprecated and will be removed in a future version. Use the PyTorch implementation torch.optim.AdamW instead, or set `no_deprecation_warning=True` to disable this warning\n",
            "  warnings.warn(\n",
            "***** Running training *****\n",
            "  Num examples = 679\n",
            "  Num Epochs = 1\n",
            "  Instantaneous batch size per device = 16\n",
            "  Total train batch size (w. parallel, distributed & accumulation) = 16\n",
            "  Gradient Accumulation steps = 1\n",
            "  Total optimization steps = 43\n",
            "  Number of trainable parameters = 162252290\n",
            "You're using a BertTokenizerFast tokenizer. Please note that with a fast tokenizer, using the `__call__` method is faster than using a method to encode the text followed by a call to the `pad` method to get a padded encoding.\n"
          ]
        },
        {
          "output_type": "display_data",
          "data": {
            "text/plain": [
              "<IPython.core.display.HTML object>"
            ],
            "text/html": [
              "\n",
              "    <div>\n",
              "      \n",
              "      <progress value='43' max='43' style='width:300px; height:20px; vertical-align: middle;'></progress>\n",
              "      [43/43 11:26, Epoch 1/1]\n",
              "    </div>\n",
              "    <table border=\"1\" class=\"dataframe\">\n",
              "  <thead>\n",
              " <tr style=\"text-align: left;\">\n",
              "      <th>Step</th>\n",
              "      <th>Training Loss</th>\n",
              "      <th>Validation Loss</th>\n",
              "    </tr>\n",
              "  </thead>\n",
              "  <tbody>\n",
              "    <tr>\n",
              "      <td>12</td>\n",
              "      <td>No log</td>\n",
              "      <td>0.456468</td>\n",
              "    </tr>\n",
              "    <tr>\n",
              "      <td>24</td>\n",
              "      <td>No log</td>\n",
              "      <td>0.359837</td>\n",
              "    </tr>\n",
              "    <tr>\n",
              "      <td>36</td>\n",
              "      <td>No log</td>\n",
              "      <td>0.278296</td>\n",
              "    </tr>\n",
              "  </tbody>\n",
              "</table><p>"
            ]
          },
          "metadata": {}
        },
        {
          "output_type": "stream",
          "name": "stderr",
          "text": [
            "***** Running Evaluation *****\n",
            "  Num examples = 679\n",
            "  Batch size = 16\n",
            "***** Running Evaluation *****\n",
            "  Num examples = 679\n",
            "  Batch size = 16\n",
            "***** Running Evaluation *****\n",
            "  Num examples = 679\n",
            "  Batch size = 16\n",
            "\n",
            "\n",
            "Training completed. Do not forget to share your model on huggingface.co/models =)\n",
            "\n",
            "\n"
          ]
        },
        {
          "output_type": "execute_result",
          "data": {
            "text/plain": [
              "TrainOutput(global_step=43, training_loss=0.5638043159662292, metrics={'train_runtime': 694.9065, 'train_samples_per_second': 0.977, 'train_steps_per_second': 0.062, 'total_flos': 12892851494964.0, 'train_loss': 0.5638043159662292, 'epoch': 1.0})"
            ]
          },
          "metadata": {},
          "execution_count": 43
        }
      ]
    },
    {
      "cell_type": "markdown",
      "source": [
        "## Connect to Google Drive\n",
        "Here you can connect to google drive to save/load models."
      ],
      "metadata": {
        "id": "I4fDHK2kdmzB"
      }
    },
    {
      "cell_type": "code",
      "source": [
        "from google.colab import drive\n",
        "drive.mount('/content/gdrive')\n",
        "#trainer.save_model('/content/gdrive/My Drive/effect')"
      ],
      "metadata": {
        "id": "wsid553qH5Rq",
        "colab": {
          "base_uri": "https://localhost:8080/"
        },
        "outputId": "44625d87-e9ab-46fd-dc3e-34820f6b3b16"
      },
      "execution_count": 4,
      "outputs": [
        {
          "output_type": "stream",
          "name": "stdout",
          "text": [
            "Mounted at /content/gdrive\n"
          ]
        }
      ]
    },
    {
      "cell_type": "markdown",
      "source": [
        "## Test\n",
        "On a test data with 300 sentences you can load models and test them. \n",
        "9 metrics are returned. Precision, Recall, and SequenceMatcher Ratio for marker, cause, and effect. "
      ],
      "metadata": {
        "id": "2y6dVpBCdxNO"
      }
    },
    {
      "cell_type": "code",
      "source": [
        "gdp = '/content/gdrive/My Drive/'\n",
        "paths = [gdp + 'marker', gdp + 'cause', gdp + 'effect']\n",
        "tokenizers = [AutoTokenizer.from_pretrained(paths[i]) for i in range(3)]\n",
        "models = [AutoModelForQuestionAnswering.from_pretrained(paths[i]) for i in range(3)]\n",
        "\n",
        "precisions, recalls, scores = [[], [], []], [[], [], []], [[], [], []]\n",
        "\n",
        "lines = open('test.txt', mode='r', encoding='utf-8').readlines()\n",
        "texts = [s.replace('*', '').replace('+', '').replace('&', '') for s in lines]\n",
        "\n",
        "for i, text in enumerate(texts):\n",
        "  mark = run_model(models[0], tokenizers[0], text, 'به دلیل این که - نتیجه - علت - زیرا - استنتاج - درصورتی که')\n",
        "  caus = run_model(models[1], tokenizers[1], text, mark)\n",
        "  effe = run_model(models[2], tokenizers[2], text, mark)\n",
        "  answer = [mark, caus, effe] if mark != '[CLS]' else ['', '', '']\n",
        "\n",
        "  print(i)\n",
        "  print(lines[i], end='')\n",
        "  parts = ['marker: ', 'cause: ', 'effect: ']\n",
        "\n",
        "  for j, tchar in enumerate(['&', '*', '+']):\n",
        "    p, r, s = get_p_and_r(lines[i], tchar, answer[j])\n",
        "    precisions[j].append(p)\n",
        "    recalls[j].append(r)\n",
        "    scores[j].append(s)\n",
        "\n",
        "    print(parts[j], end='')\n",
        "    print(answer[j], end='    ')\n",
        "    print('precision: ', end='')\n",
        "    print(p, end='    ')\n",
        "    print('recall: ', end='')\n",
        "    print(r, end='    ')\n",
        "    print('score: ', end='')\n",
        "    print(s)\n",
        "  \n",
        "  print()\n",
        "  \n",
        "\n",
        "for j in range(3):\n",
        "  print(['marker', 'cause', 'effect'][j])\n",
        "  print(np.mean(np.array(precisions[j])))\n",
        "  print(np.mean(np.array(recalls[j])))\n",
        "  print(np.mean(np.array(scores[j])))\n",
        "  print()"
      ],
      "metadata": {
        "id": "61TiSby1E1zF"
      },
      "execution_count": null,
      "outputs": []
    }
  ]
}